{
 "cells": [
  {
   "cell_type": "code",
   "execution_count": 1,
   "metadata": {},
   "outputs": [],
   "source": [
    "'''from fastapi import FastAPI\n",
    "app = FastAPI()\n",
    "\n",
    "@app.get(\"/users/me\")\n",
    "async def read_user_me():\n",
    "    return {'user_id':'the current user'}\n",
    "'''\n",
    "'''@app.get('users/{user_id}')\n",
    "async def read_user(user_id:str):\n",
    "    return {'user_id': user_id}'''"
   ]
  },
  {
   "cell_type": "code",
   "execution_count": 2,
   "metadata": {},
   "outputs": [],
   "source": [
    "'''from fastapi import FastAPI\n",
    "app=FastAPI()\n",
    "\n",
    "@app.get('/')\n",
    "async def root():\n",
    "    return {'message':'Hello world'}'''"
   ]
  },
  {
   "cell_type": "code",
   "execution_count": 3,
   "metadata": {},
   "outputs": [],
   "source": [
    "from fastapi import FastAPI\n",
    "\n",
    "app = FastAPI()\n",
    "\n",
    "\n",
    "@app.get(\"/users/me\")\n",
    "async def read_user_me():\n",
    "    return {\"user_id\": \"the current user\"}\n",
    "\n",
    "\n",
    "@app.get(\"/users/{user_id}\")\n",
    "async def read_user(user_id: str):\n",
    "    return {\"user_id\": user_id}"
   ]
  },
  {
   "cell_type": "code",
   "execution_count": null,
   "metadata": {},
   "outputs": [],
   "source": []
  }
 ],
 "metadata": {
  "kernelspec": {
   "display_name": "Python 3",
   "language": "python",
   "name": "python3"
  },
  "language_info": {
   "codemirror_mode": {
    "name": "ipython",
    "version": 3
   },
   "file_extension": ".py",
   "mimetype": "text/x-python",
   "name": "python",
   "nbconvert_exporter": "python",
   "pygments_lexer": "ipython3",
   "version": "3.7.7"
  }
 },
 "nbformat": 4,
 "nbformat_minor": 4
}
